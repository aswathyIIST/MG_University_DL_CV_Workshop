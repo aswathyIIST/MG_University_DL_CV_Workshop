{
  "nbformat": 4,
  "nbformat_minor": 0,
  "metadata": {
    "colab": {
      "provenance": [],
      "authorship_tag": "ABX9TyNjVNcnn4yxIpugQeiW/oW8",
      "include_colab_link": true
    },
    "kernelspec": {
      "name": "python3",
      "display_name": "Python 3"
    },
    "language_info": {
      "name": "python"
    }
  },
  "cells": [
    {
      "cell_type": "markdown",
      "metadata": {
        "id": "view-in-github",
        "colab_type": "text"
      },
      "source": [
        "<a href=\"https://colab.research.google.com/github/aswathyIIST/MG_University_DL_CV_Workshop/blob/main/YOLO_Object_Detection.ipynb\" target=\"_parent\"><img src=\"https://colab.research.google.com/assets/colab-badge.svg\" alt=\"Open In Colab\"/></a>"
      ]
    },
    {
      "cell_type": "code",
      "source": [
        "# @title Step 1: Clone YOLOv5 repository and install dependencies\n",
        "!git clone https://github.com/ultralytics/yolov5\n",
        "%cd yolov5\n",
        "%pip install -r requirements.txt"
      ],
      "metadata": {
        "collapsed": true,
        "id": "B_wL4t2tgE6f"
      },
      "execution_count": null,
      "outputs": []
    },
    {
      "cell_type": "code",
      "source": [
        "# @title Step 2: Import necessary libraries\n",
        "import torch\n",
        "from matplotlib import pyplot as plt\n",
        "import os\n",
        "from IPython.display import Image, display"
      ],
      "metadata": {
        "id": "vbihrwcoXiUh"
      },
      "execution_count": null,
      "outputs": []
    },
    {
      "cell_type": "code",
      "source": [
        "# @title Step 3: Check if GPU is available\n",
        "device = torch.device('cuda' if torch.cuda.is_available() else 'cpu')\n",
        "print(f\"Using device: {device}\")"
      ],
      "metadata": {
        "id": "FpIr0v4PX_EY"
      },
      "execution_count": null,
      "outputs": []
    },
    {
      "cell_type": "code",
      "source": [
        "# @title Step 4: Load the YOLOv5s model (pretrained on COCO)\n",
        "model = torch.hub.load('ultralytics/yolov5', 'yolov5s', pretrained=True)"
      ],
      "metadata": {
        "collapsed": true,
        "id": "KsY7mHcFYLOf"
      },
      "execution_count": null,
      "outputs": []
    },
    {
      "cell_type": "code",
      "source": [
        "# @title Step 5: Upload an image for detection\n",
        "from google.colab import files\n",
        "uploaded = files.upload()"
      ],
      "metadata": {
        "id": "JK5sUwy8YVQL"
      },
      "execution_count": null,
      "outputs": []
    },
    {
      "cell_type": "code",
      "source": [
        "# @title Get the uploaded image filename\n",
        "image_path = list(uploaded.keys())[0]"
      ],
      "metadata": {
        "id": "L2BX5kOqY9sU"
      },
      "execution_count": null,
      "outputs": []
    },
    {
      "cell_type": "code",
      "source": [
        "# @title Step 6: Perform detection\n",
        "results = model(image_path)"
      ],
      "metadata": {
        "id": "AAmDQrXrZCqx"
      },
      "execution_count": null,
      "outputs": []
    },
    {
      "cell_type": "code",
      "source": [
        "# @title Step 7: Display results\n",
        "results.print()  # Print results in console\n",
        "results.show()   # Show image with bounding boxes"
      ],
      "metadata": {
        "id": "HLCu4mJyZI54"
      },
      "execution_count": null,
      "outputs": []
    },
    {
      "cell_type": "code",
      "source": [
        "# Optional: Save results\n",
        "#results.save(save_dir='runs/detect/exp')\n",
        "#display(Image('runs/detect/exp/' + image_path))"
      ],
      "metadata": {
        "id": "7pEbqMTpZlC5"
      },
      "execution_count": null,
      "outputs": []
    },
    {
      "cell_type": "code",
      "source": [
        "\n",
        "\n",
        "# @title Filter results for only \"person\" class\n",
        "# Get predictions as pandas dataframe\n",
        "df = results.pandas().xyxy[0]\n",
        "person_df = df[df['name'] == 'person']\n",
        "\n",
        "\n"
      ],
      "metadata": {
        "id": "XEN2iOkW0Bnc"
      },
      "execution_count": null,
      "outputs": []
    },
    {
      "cell_type": "code",
      "source": [
        "# @title Step 8: Load image and draw only person detections\n",
        "image = cv2.imread(image_path)\n",
        "for _, row in person_df.iterrows():\n",
        "    x1, y1, x2, y2 = map(int, [row['xmin'], row['ymin'], row['xmax'], row['ymax']])\n",
        "    label = f\"{row['name']} {row['confidence']:.2f}\"\n",
        "    cv2.rectangle(image, (x1, y1), (x2, y2), (255, 0, 0), 2)\n",
        "    cv2.putText(image, label, (x1, y1 - 10),\n",
        "                cv2.FONT_HERSHEY_SIMPLEX, 0.6, (255, 0, 0), 2)\n",
        "\n"
      ],
      "metadata": {
        "id": "sMXEVdjt0lJt"
      },
      "execution_count": null,
      "outputs": []
    },
    {
      "cell_type": "code",
      "source": [
        "# @title Step 9: Save and display the result\n",
        "output_path = f\"person_only_{os.path.basename(image_path)}\"\n",
        "cv2.imwrite(output_path, image)\n",
        "display(Image(output_path))"
      ],
      "metadata": {
        "id": "8En6b-GT0n29"
      },
      "execution_count": null,
      "outputs": []
    }
  ]
}