{
  "nbformat": 4,
  "nbformat_minor": 0,
  "metadata": {
    "colab": {
      "provenance": [],
      "authorship_tag": "ABX9TyMxoAyWvoZYD1K1rGimAYzP",
      "include_colab_link": true
    },
    "kernelspec": {
      "name": "python3",
      "display_name": "Python 3"
    },
    "language_info": {
      "name": "python"
    }
  },
  "cells": [
    {
      "cell_type": "markdown",
      "metadata": {
        "id": "view-in-github",
        "colab_type": "text"
      },
      "source": [
        "<a href=\"https://colab.research.google.com/github/aswathyIIST/MG_University_DL_CV_Workshop/blob/main/FasterRCNN_Object_detection.ipynb\" target=\"_parent\"><img src=\"https://colab.research.google.com/assets/colab-badge.svg\" alt=\"Open In Colab\"/></a>"
      ]
    },
    {
      "cell_type": "code",
      "execution_count": null,
      "metadata": {
        "id": "JLQd3Enflrd_"
      },
      "outputs": [],
      "source": [
        "# @title Step 1: Install required packages\n",
        "!pip install -q tensorflow tensorflow-hub opencv-python\n",
        "\n"
      ]
    },
    {
      "cell_type": "code",
      "source": [
        "# @title Step 2: Import libraries\n",
        "import tensorflow as tf\n",
        "import tensorflow_hub as hub\n",
        "import numpy as np\n",
        "import cv2\n",
        "from PIL import Image\n",
        "from google.colab import files\n",
        "import matplotlib.pyplot as plt\n",
        "\n"
      ],
      "metadata": {
        "id": "NBUzavZcnEwm"
      },
      "execution_count": null,
      "outputs": []
    },
    {
      "cell_type": "code",
      "source": [
        "# @title Step 3: Load the Faster R-CNN model from TF Hub\n",
        "detector = hub.load(\"https://tfhub.dev/tensorflow/faster_rcnn/inception_resnet_v2_640x640/1\")\n",
        "\n"
      ],
      "metadata": {
        "id": "s4FcxCKOnSYT"
      },
      "execution_count": null,
      "outputs": []
    },
    {
      "cell_type": "code",
      "source": [
        "# @title COCO labels\n",
        "LABELS = {1: 'person', 2: 'bicycle', 3: 'car', 4: 'motorcycle', 5: 'airplane',\n",
        "          6: 'bus', 7: 'train', 8: 'truck', 9: 'boat', 10: 'traffic light',\n",
        "          11: 'fire hydrant', 13: 'stop sign', 14: 'parking meter', 15: 'bench'}\n",
        "\n"
      ],
      "metadata": {
        "id": "d6vzq16jnj5J"
      },
      "execution_count": null,
      "outputs": []
    },
    {
      "cell_type": "code",
      "source": [
        "# @title Step 4: Upload image\n",
        "uploaded = files.upload()\n",
        "image_path = list(uploaded.keys())[0]\n",
        "\n"
      ],
      "metadata": {
        "id": "xP3GOuJEntWG"
      },
      "execution_count": null,
      "outputs": []
    },
    {
      "cell_type": "code",
      "source": [
        "# @title @title Step 5: Load and preprocess image\n",
        "img = Image.open(image_path).convert('RGB')\n",
        "img_resized = np.array(img)\n",
        "input_tensor = tf.convert_to_tensor([img_resized], dtype=tf.uint8)\n",
        "\n"
      ],
      "metadata": {
        "id": "cfrb1kQwn0Gd"
      },
      "execution_count": null,
      "outputs": []
    },
    {
      "cell_type": "code",
      "source": [
        "# @title Step 6: Run detection\n",
        "output = detector(input_tensor)\n",
        "output = {k: v.numpy() for k, v in output.items()}\n",
        "\n"
      ],
      "metadata": {
        "id": "UyB7xiicn_xj"
      },
      "execution_count": null,
      "outputs": []
    },
    {
      "cell_type": "code",
      "source": [
        "# @title Step 7: Visualize results\n",
        "image_np = img_resized.copy()\n",
        "h, w, _ = image_np.shape\n",
        "\n",
        "num_detections = int(output['num_detections'][0])  # Already a NumPy array\n",
        "boxes = output['detection_boxes'][0]\n",
        "scores = output['detection_scores'][0]\n",
        "classes = output['detection_classes'][0].astype(int)\n",
        "\n",
        "for i in range(num_detections):\n",
        "    score = scores[i]\n",
        "    if score < 0.5:\n",
        "        continue\n",
        "\n",
        "    box = boxes[i]\n",
        "    class_id = classes[i]\n",
        "\n",
        "    y1, x1, y2, x2 = box\n",
        "    left, top, right, bottom = int(x1 * w), int(y1 * h), int(x2 * w), int(y2 * h)\n",
        "    label = LABELS.get(class_id, f'Class {class_id}')\n",
        "\n",
        "    cv2.rectangle(image_np, (left, top), (right, bottom), (0, 255, 0), 2)\n",
        "    cv2.putText(image_np, f'{label}: {score:.2f}', (left, top - 10),\n",
        "                cv2.FONT_HERSHEY_SIMPLEX, 0.6, (255, 0, 0), 2)\n",
        "\n",
        "\n"
      ],
      "metadata": {
        "id": "GXtqH5JmoU2k"
      },
      "execution_count": null,
      "outputs": []
    },
    {
      "cell_type": "code",
      "source": [
        "# @title Step 8: Show output\n",
        "plt.figure(figsize=(12, 8))\n",
        "plt.imshow(image_np)\n",
        "plt.axis('off')\n",
        "plt.title(\"Faster R-CNN Detections\")\n",
        "plt.show()"
      ],
      "metadata": {
        "id": "I6E1rPshoe2T"
      },
      "execution_count": null,
      "outputs": []
    },
    {
      "cell_type": "code",
      "source": [
        "import tensorflow_hub as hub\n",
        "\n",
        "detector = hub.load(\"https://tfhub.dev/tensorflow/faster_rcnn/inception_resnet_v2_640x640/1\")\n",
        "print(detector)\n"
      ],
      "metadata": {
        "id": "qHF05860uTvF"
      },
      "execution_count": null,
      "outputs": []
    }
  ]
}