{
  "nbformat": 4,
  "nbformat_minor": 0,
  "metadata": {
    "colab": {
      "provenance": [],
      "authorship_tag": "ABX9TyMADN32MiLICzGtmqYJ57f5",
      "include_colab_link": true
    },
    "kernelspec": {
      "name": "python3",
      "display_name": "Python 3"
    },
    "language_info": {
      "name": "python"
    }
  },
  "cells": [
    {
      "cell_type": "markdown",
      "metadata": {
        "id": "view-in-github",
        "colab_type": "text"
      },
      "source": [
        "<a href=\"https://colab.research.google.com/github/aswathyIIST/MG_University_DL_CV_Workshop/blob/main/DeepSORT_YOLO_MOT.ipynb\" target=\"_parent\"><img src=\"https://colab.research.google.com/assets/colab-badge.svg\" alt=\"Open In Colab\"/></a>"
      ]
    },
    {
      "cell_type": "code",
      "execution_count": null,
      "metadata": {
        "id": "UE9LTcH81rSR"
      },
      "outputs": [],
      "source": [
        "# Step 1: Clone YOLOv5 and Deep SORT repo\n",
        "!git clone https://github.com/mikel-brostrom/Yolov5_DeepSort_Pytorch.git\n",
        "%cd Yolov5_DeepSort_Pytorch\n",
        "\n"
      ]
    },
    {
      "cell_type": "code",
      "source": [
        "# Step 2: Install dependencies\n",
        "!pip install -r requirements.txt\n",
        "!pip install lap wandb filterpy scikit-image\n",
        "\n"
      ],
      "metadata": {
        "id": "AQqwKDM82KMe"
      },
      "execution_count": null,
      "outputs": []
    },
    {
      "cell_type": "code",
      "source": [
        "# Step 3: Upload your video\n",
        "from google.colab import files\n",
        "uploaded = files.upload()  # Upload your .mp4 video\n",
        "\n"
      ],
      "metadata": {
        "id": "RhicElBf2Mxs"
      },
      "execution_count": null,
      "outputs": []
    },
    {
      "cell_type": "code",
      "source": [
        "import os\n",
        "video_path = list(uploaded.keys())[0]\n",
        "print(f\"Uploaded video: {video_path}\")\n",
        "\n"
      ],
      "metadata": {
        "id": "y8GUwegc2PeN"
      },
      "execution_count": null,
      "outputs": []
    },
    {
      "cell_type": "code",
      "source": [
        "# Step 4: Run YOLOv5 + Deep SORT tracker\n",
        "!python track.py --source {video_path} --yolo-model yolov5s.pt --save-vid --show-vid\n",
        "\n"
      ],
      "metadata": {
        "id": "4X1vByLt2RT7"
      },
      "execution_count": null,
      "outputs": []
    },
    {
      "cell_type": "code",
      "source": [
        "# Step 5: Display output video\n",
        "import glob\n",
        "from IPython.display import HTML\n",
        "from base64 import b64encode\n",
        "\n"
      ],
      "metadata": {
        "id": "MHYS30kL2TOj"
      },
      "execution_count": null,
      "outputs": []
    },
    {
      "cell_type": "code",
      "source": [
        "# Find the latest output video\n",
        "output_files = sorted(glob.glob('runs/track/*/*.mp4'))\n",
        "output_video = output_files[-1]\n",
        "print(f\"Tracked output video: {output_video}\")\n",
        "\n"
      ],
      "metadata": {
        "id": "Kfmdcmra2U4z"
      },
      "execution_count": null,
      "outputs": []
    },
    {
      "cell_type": "code",
      "source": [
        "# Encode and show\n",
        "mp4 = open(output_video, 'rb').read()\n",
        "data_url = \"data:video/mp4;base64,\" + b64encode(mp4).decode()\n",
        "HTML(f\"\"\"\n",
        "<video width=800 controls>\n",
        "    <source src=\"{data_url}\" type=\"video/mp4\">\n",
        "</video>\n",
        "\"\"\")"
      ],
      "metadata": {
        "id": "kqohVeAq2Wx5"
      },
      "execution_count": null,
      "outputs": []
    },
    {
      "cell_type": "code",
      "source": [
        "# Step 1: Clone the repo\n",
        "!git clone https://github.com/mikel-brostrom/Yolov5_DeepSort_Pytorch.git\n",
        "%cd Yolov5_DeepSort_Pytorch\n",
        "\n",
        "# Step 2: Install dependencies\n",
        "!pip install -r requirements.txt\n",
        "!pip install lap wandb filterpy scikit-image\n",
        "\n",
        "# Step 3: Upload a video file\n",
        "from google.colab import files\n",
        "uploaded = files.upload()\n",
        "\n",
        "import os\n",
        "video_path = list(uploaded.keys())[0]\n",
        "print(f\"Uploaded video: {video_path}\")\n",
        "\n",
        "# Step 4: Check if video is valid\n",
        "import cv2\n",
        "cap = cv2.VideoCapture(video_path)\n",
        "if not cap.isOpened():\n",
        "    raise ValueError(\"Failed to open the video. Please upload a valid video file.\")\n",
        "frame_count = int(cap.get(cv2.CAP_PROP_FRAME_COUNT))\n",
        "fps = cap.get(cv2.CAP_PROP_FPS)\n",
        "cap.release()\n",
        "if frame_count == 0:\n",
        "    raise ValueError(\"The uploaded video has 0 frames.\")\n",
        "\n",
        "print(f\"Video FPS: {fps}, Frame Count: {frame_count}\")\n",
        "\n",
        "# Step 5: Run tracking with fixed output path\n",
        "output_dir = \"demo\"\n",
        "!python track.py --source {video_path} --yolo-model yolov5s.pt --save-vid --project runs/track --name {output_dir} --exist-ok\n",
        "\n",
        "# Step 6: Construct output video path manually\n",
        "tracked_video_path = f\"runs/track/{output_dir}/{os.path.basename(video_path)}\"\n",
        "if not os.path.exists(tracked_video_path):\n",
        "    raise FileNotFoundError(f\"Output video not found at: {tracked_video_path}\")\n",
        "\n",
        "print(f\"Tracked video saved at: {tracked_video_path}\")\n",
        "\n",
        "# Step 7: Display the tracked video in notebook\n",
        "from IPython.display import HTML\n",
        "from base64 import b64encode\n",
        "\n",
        "mp4 = open(tracked_video_path, 'rb').read()\n",
        "data_url = \"data:video/mp4;base64,\" + b64encode(mp4).decode()\n",
        "HTML(f\"\"\"\n",
        "<video width=800 controls>\n",
        "  <source src=\"{data_url}\" type=\"video/mp4\">\n",
        "</video>\n",
        "\"\"\")\n"
      ],
      "metadata": {
        "id": "0MVD9V3A5dyz"
      },
      "execution_count": null,
      "outputs": []
    }
  ]
}